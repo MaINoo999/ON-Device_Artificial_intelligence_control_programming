{
 "cells": [
  {
   "cell_type": "code",
   "id": "initial_id",
   "metadata": {
    "collapsed": true,
    "ExecuteTime": {
     "end_time": "2025-10-15T06:24:25.154008Z",
     "start_time": "2025-10-15T06:24:15.366526Z"
    }
   },
   "source": [
    "from selenium import webdriver\n",
    "wd = webdriver.Chrome()\n",
    "wd.get(url=\"https://www.coffeebeankorea.com/store/store.asp\")\n"
   ],
   "outputs": [],
   "execution_count": 37
  },
  {
   "metadata": {
    "ExecuteTime": {
     "end_time": "2025-10-15T06:24:30.452224Z",
     "start_time": "2025-10-15T06:24:30.446256Z"
    }
   },
   "cell_type": "code",
   "source": "wd.execute_script(\"storePop2('31')\")\n",
   "id": "965e799adb1cfce4",
   "outputs": [],
   "execution_count": 38
  },
  {
   "metadata": {},
   "cell_type": "code",
   "outputs": [],
   "execution_count": null,
   "source": "",
   "id": "fc299790445d1312"
  }
 ],
 "metadata": {
  "kernelspec": {
   "display_name": "Python 3",
   "language": "python",
   "name": "python3"
  },
  "language_info": {
   "codemirror_mode": {
    "name": "ipython",
    "version": 2
   },
   "file_extension": ".py",
   "mimetype": "text/x-python",
   "name": "python",
   "nbconvert_exporter": "python",
   "pygments_lexer": "ipython2",
   "version": "2.7.6"
  }
 },
 "nbformat": 4,
 "nbformat_minor": 5
}
